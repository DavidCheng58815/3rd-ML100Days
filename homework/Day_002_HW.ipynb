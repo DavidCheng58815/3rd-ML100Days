{
 "cells": [
  {
   "cell_type": "markdown",
   "metadata": {},
   "source": [
    "## [作業目標]\n",
    "了解機器學習適合應用的領域與範疇。"
   ]
  },
  {
   "cell_type": "markdown",
   "metadata": {},
   "source": [
    "## [作業重點]\n",
    "透過瞭解機器學習的運作方式，找出非常適用機器學習應用的領域及其原因"
   ]
  },
  {
   "cell_type": "markdown",
   "metadata": {},
   "source": [
    "## 作業\n",
    "請找出一個你認為機器學習可以發光發熱的領域並闡述原因? "
   ]
  },
  {
   "cell_type": "markdown",
   "metadata": {},
   "source": [
    "Ans：機器學習對我來說就是更進階的\"專家系統\"，因此領域上非常廣泛。主因在於依據所制定的規則進行判別再利用監督、半監督、非監督與增強學習的方式更能做有效的判斷如同訓練機器人做重複的事情一樣。因此針對領域上來說，我認為在目前IIoT的世界中，機器學習扮演著非常重要的腳色並且可以持續地發光發熱，原因在於機器跟人最大的不同是，針對同的事情與動作可以不暇思索的立即反饋回來，這點是人類無法持續的做到。所以在自動化生產線中，多半的機器人都有利用機械學習的方式進行工作，以減輕人員的壓力，使人員能夠花更多有效益的事情上面。"
   ]
  }
 ],
 "metadata": {
  "kernelspec": {
   "display_name": "Python 3",
   "language": "python",
   "name": "python3"
  },
  "language_info": {
   "codemirror_mode": {
    "name": "ipython",
    "version": 3
   },
   "file_extension": ".py",
   "mimetype": "text/x-python",
   "name": "python",
   "nbconvert_exporter": "python",
   "pygments_lexer": "ipython3",
   "version": "3.6.8"
  }
 },
 "nbformat": 4,
 "nbformat_minor": 2
}
